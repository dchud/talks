{
 "cells": [
  {
   "cell_type": "markdown",
   "metadata": {
    "collapsed": true
   },
   "source": [
    "# A quick tour of Lucene and Solr\n",
    "\n",
    "[Lucene](http://lucene.apache.org/) is a widely used information retrieval library in Java.\n",
    "\n",
    "* implements the TF-IDF model\n",
    "* simple model for indexing and search\n",
    "* easy to learn, fast, and scalable\n",
    "* written by Doug Cutting, who later co-wrote Hadoop\n",
    "* I've been using it since 2001 ([DSpace](http://dspace.org/), [Canary](http://canarydatabase.org/), [WDL](http://wdl.org/), [Chronam](http://chroniclingamerica.loc.gov), [GW Libs](http://library.gwu.edu/))\n",
    "* free, open source software"
   ]
  },
  {
   "cell_type": "markdown",
   "metadata": {},
   "source": [
    "## Lucene basics\n",
    "\n",
    "* everything is a Document (source format independent)\n",
    "* Documents have Fields\n",
    "* Fields can be tokenized, indexed, stored, multivalue (or not)\n",
    "* text is Tokenized, Analyzed on index and query\n",
    "* queries are parsed, then Tokenized, Analyzed, and results ranked\n",
    "\n",
    "See [a simple example of code using the Lucene API](http://lucene.apache.org/core/5_0_0/core/overview-summary.html#overview_description) and also [more extensive Lucene documentation](http://lucene.apache.org/core/5_0_0/index.html)."
   ]
  },
  {
   "cell_type": "markdown",
   "metadata": {},
   "source": [
    "## Solr basics\n",
    "\n",
    "[Solr](http://lucene.apache.org/solr/) is a search application (or server) that makes Lucene even easier to implement and scale.\n",
    "\n",
    "* Lucene under the hood\n",
    "* simple \"index anything\" or schema-based configuration\n",
    "* simple web API to index and search\n",
    "* scales to many servers\n",
    "* very widely used\n",
    "* free, open source software"
   ]
  },
  {
   "cell_type": "markdown",
   "metadata": {},
   "source": [
    "# Working with Solr\n",
    "\n",
    "* index and search using web API - easier code\n",
    "* define a schema first, or don't\n",
    "* csv, json, xml results easy to parse in any language\n",
    "* handles many technical details (caching, faceting, spelling corrections, clustering, hit hightlighting)\n",
    "* the bee's knees, basically"
   ]
  },
  {
   "cell_type": "markdown",
   "metadata": {},
   "source": [
    "## Searching solr\n",
    "\n",
    "It's as easy as sending an HTTP request.  Let's use [python-requests](http://docs.python-requests.org/en/latest/) to handle HTTP."
   ]
  },
  {
   "cell_type": "code",
   "execution_count": 1,
   "metadata": {
    "collapsed": false
   },
   "outputs": [
    {
     "data": {
      "text/plain": [
       "[u'responseHeader', u'response']"
      ]
     },
     "execution_count": 1,
     "metadata": {},
     "output_type": "execute_result"
    }
   ],
   "source": [
    "import requests\n",
    "req = requests.get(\"http://localhost:8983/solr/gettingstarted/select?wt=json&q=foundation\")\n",
    "resp = req.json()\n",
    "resp.keys()"
   ]
  },
  {
   "cell_type": "markdown",
   "metadata": {},
   "source": [
    "The response header is pretty straightforward:"
   ]
  },
  {
   "cell_type": "code",
   "execution_count": 2,
   "metadata": {
    "collapsed": false
   },
   "outputs": [
    {
     "data": {
      "text/plain": [
       "{u'QTime': 38,\n",
       " u'params': {u'indent': u'true', u'q': u'foundation', u'wt': u'json'},\n",
       " u'status': 0}"
      ]
     },
     "execution_count": 2,
     "metadata": {},
     "output_type": "execute_result"
    }
   ],
   "source": [
    "resp['responseHeader']"
   ]
  },
  {
   "cell_type": "code",
   "execution_count": 3,
   "metadata": {
    "collapsed": false
   },
   "outputs": [
    {
     "data": {
      "text/plain": [
       "[u'start', u'maxScore', u'numFound', u'docs']"
      ]
     },
     "execution_count": 3,
     "metadata": {},
     "output_type": "execute_result"
    }
   ],
   "source": [
    "resp['response'].keys()"
   ]
  },
  {
   "cell_type": "code",
   "execution_count": 6,
   "metadata": {
    "collapsed": false
   },
   "outputs": [
    {
     "data": {
      "text/plain": [
       "0"
      ]
     },
     "execution_count": 6,
     "metadata": {},
     "output_type": "execute_result"
    }
   ],
   "source": [
    "resp['response']['start']"
   ]
  },
  {
   "cell_type": "code",
   "execution_count": 7,
   "metadata": {
    "collapsed": false
   },
   "outputs": [
    {
     "data": {
      "text/plain": [
       "0.37489003"
      ]
     },
     "execution_count": 7,
     "metadata": {},
     "output_type": "execute_result"
    }
   ],
   "source": [
    "resp['response']['maxScore']"
   ]
  },
  {
   "cell_type": "code",
   "execution_count": 8,
   "metadata": {
    "collapsed": false
   },
   "outputs": [
    {
     "data": {
      "text/plain": [
       "3106"
      ]
     },
     "execution_count": 8,
     "metadata": {},
     "output_type": "execute_result"
    }
   ],
   "source": [
    "resp['response']['numFound']"
   ]
  },
  {
   "cell_type": "markdown",
   "metadata": {},
   "source": [
    "That's the basic header.  We're starting with the first page of results, and it's a zero-based index, which explains why \"start\" is 0.  We'll look more at scores in a moment.\n",
    "\n",
    "Let's take a look at the results first."
   ]
  },
  {
   "cell_type": "code",
   "execution_count": 10,
   "metadata": {
    "collapsed": false
   },
   "outputs": [
    {
     "data": {
      "text/plain": [
       "10"
      ]
     },
     "execution_count": 10,
     "metadata": {},
     "output_type": "execute_result"
    }
   ],
   "source": [
    "len(resp['response']['docs'])"
   ]
  },
  {
   "cell_type": "code",
   "execution_count": 11,
   "metadata": {
    "collapsed": false
   },
   "outputs": [
    {
     "data": {
      "text/plain": [
       "{u'_version_': 1494510828527812608,\n",
       " u'author': [u'Isaac Asimov'],\n",
       " u'cat': [u'book'],\n",
       " u'genre_s': u'scifi',\n",
       " u'id': u'0553293354',\n",
       " u'inStock': [True],\n",
       " u'name': [u'Foundation'],\n",
       " u'price': [7.99],\n",
       " u'sequence_i': 1,\n",
       " u'series_t': [u'Foundation Novels']}"
      ]
     },
     "execution_count": 11,
     "metadata": {},
     "output_type": "execute_result"
    }
   ],
   "source": [
    "docs = resp['response']['docs']\n",
    "docs[0]"
   ]
  },
  {
   "cell_type": "code",
   "execution_count": 12,
   "metadata": {
    "collapsed": false
   },
   "outputs": [
    {
     "data": {
      "text/plain": [
       "{u'_version_': 1494510737274437632,\n",
       " u'cat': [u'software', u'search'],\n",
       " u'features': [u'No accents here',\n",
       "  u'This is an e acute: \\xe9',\n",
       "  u'eaiou with circumflexes: \\xea\\xe2\\xee\\xf4\\xfb',\n",
       "  u'eaiou with umlauts: \\xeb\\xe4\\xef\\xf6\\xfc',\n",
       "  u'tag with escaped chars: <nicetag/>',\n",
       "  u'escaped ampersand: Bonnie & Clyde',\n",
       "  u'Outside the BMP:\\U00010308 codepoint=10308, a circle with an x inside. UTF8=f0908c88 UTF16=d800 df08'],\n",
       " u'id': u'UTF8TEST',\n",
       " u'inStock': [True],\n",
       " u'manu': [u'Apache Software Foundation'],\n",
       " u'name': [u'Test with some UTF-8 encoded characters'],\n",
       " u'price': [0.0]}"
      ]
     },
     "execution_count": 12,
     "metadata": {},
     "output_type": "execute_result"
    }
   ],
   "source": [
    "docs[1]"
   ]
  },
  {
   "cell_type": "code",
   "execution_count": 21,
   "metadata": {
    "collapsed": false
   },
   "outputs": [
    {
     "name": "stdout",
     "output_type": "stream",
     "text": [
      "0553293354: [u'Foundation'], $[7.99]\n",
      "UTF8TEST: [u'Test with some UTF-8 encoded characters'], $[0.0]\n",
      "SOLR1000: [u'Solr, the Enterprise Search Server'], $[0.0]\n",
      "/Users/dchud/Downloads/apps/solr-5.0.0/docs/solr-analytics/deprecated-list.html: (no title), $-\n",
      "/Users/dchud/Downloads/apps/solr-5.0.0/docs/solr-clustering/org/apache/solr/handler/clustering/carrot2/package-use.html: (no title), $-\n",
      "/Users/dchud/Downloads/apps/solr-5.0.0/docs/solr-core/org/apache/solr/logging/log4j/package-use.html: (no title), $-\n",
      "/Users/dchud/Downloads/apps/solr-5.0.0/docs/solr-core/org/apache/solr/spelling/suggest/tst/package-use.html: (no title), $-\n",
      "/Users/dchud/Downloads/apps/solr-5.0.0/docs/solr-dataimporthandler-extras/deprecated-list.html: (no title), $-\n",
      "/Users/dchud/Downloads/apps/solr-5.0.0/docs/solr-solrj/org/apache/solr/client/solrj/util/package-use.html: (no title), $-\n",
      "/Users/dchud/Downloads/apps/solr-5.0.0/docs/solr-test-framework/org/apache/solr/analysis/package-use.html: (no title), $-\n"
     ]
    }
   ],
   "source": [
    "for doc in docs:\n",
    "    print \"%s: %s, $%s\" % (doc['id'], doc.get('name', '(no title)'), doc.get('price', '-'))"
   ]
  },
  {
   "cell_type": "markdown",
   "metadata": {},
   "source": [
    "Let's revisit this query and add relevance rank scores to the results."
   ]
  },
  {
   "cell_type": "code",
   "execution_count": 22,
   "metadata": {
    "collapsed": false
   },
   "outputs": [
    {
     "data": {
      "text/plain": [
       "{u'_version_': 1494510828527812608,\n",
       " u'author': [u'Isaac Asimov'],\n",
       " u'cat': [u'book'],\n",
       " u'genre_s': u'scifi',\n",
       " u'id': u'0553293354',\n",
       " u'inStock': [True],\n",
       " u'name': [u'Foundation'],\n",
       " u'price': [7.99],\n",
       " u'score': 0.37489003,\n",
       " u'sequence_i': 1,\n",
       " u'series_t': [u'Foundation Novels']}"
      ]
     },
     "execution_count": 22,
     "metadata": {},
     "output_type": "execute_result"
    }
   ],
   "source": [
    "req = requests.get(\"http://localhost:8983/solr/gettingstarted/select?wt=json&indent=true&q=foundation&fl=*,score\")\n",
    "resp = req.json()\n",
    "docs = resp['response']['docs']\n",
    "docs[0]"
   ]
  },
  {
   "cell_type": "code",
   "execution_count": 24,
   "metadata": {
    "collapsed": false
   },
   "outputs": [
    {
     "name": "stdout",
     "output_type": "stream",
     "text": [
      "0.37489003 - [u'Foundation']\n",
      "0.13254364 - [u'Test with some UTF-8 encoded characters']\n",
      "0.115975685 - [u'Solr, the Enterprise Search Server']\n",
      "0.05857657 - (no title)\n",
      "0.05857657 - (no title)\n",
      "0.05857657 - (no title)\n",
      "0.05857657 - (no title)\n",
      "0.05857657 - (no title)\n",
      "0.05857657 - (no title)\n",
      "0.05857657 - (no title)\n"
     ]
    }
   ],
   "source": [
    "for doc in docs:\n",
    "    print \"%s - %s\" % (doc['score'], doc.get('name', '(no title)'))"
   ]
  },
  {
   "cell_type": "markdown",
   "metadata": {},
   "source": [
    "# Under the hood\n",
    "\n",
    "Now let's take a closer look at how those scores are generated. Solr offers easy tools for examining a live index and debugging information about results."
   ]
  },
  {
   "cell_type": "code",
   "execution_count": 25,
   "metadata": {
    "collapsed": false
   },
   "outputs": [
    {
     "data": {
      "text/plain": [
       "[u'debug', u'responseHeader', u'response']"
      ]
     },
     "execution_count": 25,
     "metadata": {},
     "output_type": "execute_result"
    }
   ],
   "source": [
    "# Add parameter debugQuery=true, repeat\n",
    "req = requests.get(\"http://localhost:8983/solr/gettingstarted/select?wt=json&indent=true&q=foundation&fl=*,score&debugQuery=true\")\n",
    "resp = req.json()\n",
    "resp.keys()"
   ]
  },
  {
   "cell_type": "code",
   "execution_count": 26,
   "metadata": {
    "collapsed": false
   },
   "outputs": [
    {
     "data": {
      "text/plain": [
       "[u'parsedquery',\n",
       " u'track',\n",
       " u'explain',\n",
       " u'querystring',\n",
       " u'rawquerystring',\n",
       " u'parsedquery_toString',\n",
       " u'QParser',\n",
       " u'timing']"
      ]
     },
     "execution_count": 26,
     "metadata": {},
     "output_type": "execute_result"
    }
   ],
   "source": [
    "debug = resp['debug']\n",
    "debug.keys()"
   ]
  },
  {
   "cell_type": "markdown",
   "metadata": {},
   "source": [
    "First, we can see that the query is parsed to determine how it should be processed.  In the absence of named fields, it assumes a default, here `_text`."
   ]
  },
  {
   "cell_type": "code",
   "execution_count": 30,
   "metadata": {
    "collapsed": false
   },
   "outputs": [
    {
     "data": {
      "text/plain": [
       "u'LuceneQParser'"
      ]
     },
     "execution_count": 30,
     "metadata": {},
     "output_type": "execute_result"
    }
   ],
   "source": [
    "debug['QParser']"
   ]
  },
  {
   "cell_type": "code",
   "execution_count": 27,
   "metadata": {
    "collapsed": false
   },
   "outputs": [
    {
     "data": {
      "text/plain": [
       "u'foundation'"
      ]
     },
     "execution_count": 27,
     "metadata": {},
     "output_type": "execute_result"
    }
   ],
   "source": [
    "debug['rawquerystring']"
   ]
  },
  {
   "cell_type": "code",
   "execution_count": 29,
   "metadata": {
    "collapsed": false
   },
   "outputs": [
    {
     "data": {
      "text/plain": [
       "u'_text:foundation'"
      ]
     },
     "execution_count": 29,
     "metadata": {},
     "output_type": "execute_result"
    }
   ],
   "source": [
    "debug['parsedquery']"
   ]
  },
  {
   "cell_type": "markdown",
   "metadata": {},
   "source": [
    "The `timing` element gives the processing time in milliseconds.  Note that a lot of tasks were not performed."
   ]
  },
  {
   "cell_type": "code",
   "execution_count": 31,
   "metadata": {
    "collapsed": false
   },
   "outputs": [
    {
     "data": {
      "text/plain": [
       "{u'prepare': {u'debug': {u'time': 0.0},\n",
       "  u'expand': {u'time': 0.0},\n",
       "  u'facet': {u'time': 0.0},\n",
       "  u'highlight': {u'time': 0.0},\n",
       "  u'mlt': {u'time': 0.0},\n",
       "  u'query': {u'time': 4.0},\n",
       "  u'stats': {u'time': 0.0},\n",
       "  u'time': 4.0},\n",
       " u'process': {u'debug': {u'time': 36.0},\n",
       "  u'expand': {u'time': 0.0},\n",
       "  u'facet': {u'time': 0.0},\n",
       "  u'highlight': {u'time': 0.0},\n",
       "  u'mlt': {u'time': 0.0},\n",
       "  u'query': {u'time': 6.0},\n",
       "  u'stats': {u'time': 0.0},\n",
       "  u'time': 42.0},\n",
       " u'time': 46.0}"
      ]
     },
     "execution_count": 31,
     "metadata": {},
     "output_type": "execute_result"
    }
   ],
   "source": [
    "debug['timing']"
   ]
  },
  {
   "cell_type": "markdown",
   "metadata": {},
   "source": [
    "## The good stuff: relevance scoring\n",
    "\n",
    "Now we get to the good bits.  The `explain` element contains the precise scoring details for each aspect of a parsed query. "
   ]
  },
  {
   "cell_type": "code",
   "execution_count": 34,
   "metadata": {
    "collapsed": false
   },
   "outputs": [
    {
     "data": {
      "text/plain": [
       "[u'0553293354',\n",
       " u'UTF8TEST',\n",
       " u'/Users/dchud/Downloads/apps/solr-5.0.0/docs/solr-core/org/apache/solr/spelling/suggest/tst/package-use.html',\n",
       " u'/Users/dchud/Downloads/apps/solr-5.0.0/docs/solr-solrj/org/apache/solr/client/solrj/util/package-use.html',\n",
       " u'/Users/dchud/Downloads/apps/solr-5.0.0/docs/solr-core/org/apache/solr/logging/log4j/package-use.html',\n",
       " u'/Users/dchud/Downloads/apps/solr-5.0.0/docs/solr-dataimporthandler-extras/deprecated-list.html',\n",
       " u'/Users/dchud/Downloads/apps/solr-5.0.0/docs/solr-test-framework/org/apache/solr/analysis/package-use.html',\n",
       " u'SOLR1000',\n",
       " u'/Users/dchud/Downloads/apps/solr-5.0.0/docs/solr-clustering/org/apache/solr/handler/clustering/carrot2/package-use.html',\n",
       " u'/Users/dchud/Downloads/apps/solr-5.0.0/docs/solr-analytics/deprecated-list.html']"
      ]
     },
     "execution_count": 34,
     "metadata": {},
     "output_type": "execute_result"
    }
   ],
   "source": [
    "explain = debug['explain']\n",
    "explain.keys()"
   ]
  },
  {
   "cell_type": "code",
   "execution_count": 36,
   "metadata": {
    "collapsed": false
   },
   "outputs": [
    {
     "name": "stdout",
     "output_type": "stream",
     "text": [
      "\n",
      "0.13254364 = (MATCH) weight(_text:foundation in 16) [DefaultSimilarity], result of:\n",
      "  0.13254364 = fieldWeight in 16, product of:\n",
      "    1.0 = tf(freq=1.0), with freq of:\n",
      "      1.0 = termFreq=1.0\n",
      "    1.0603491 = idf(docFreq=1494, maxDocs=1588)\n",
      "    0.125 = fieldNorm(doc=16)\n",
      "\n"
     ]
    }
   ],
   "source": [
    "print explain['UTF8TEST']"
   ]
  },
  {
   "cell_type": "code",
   "execution_count": 37,
   "metadata": {
    "collapsed": false
   },
   "outputs": [
    {
     "name": "stdout",
     "output_type": "stream",
     "text": [
      "\n",
      "0.37489003 = (MATCH) weight(_text:foundation in 3) [DefaultSimilarity], result of:\n",
      "  0.37489003 = fieldWeight in 3, product of:\n",
      "    1.4142135 = tf(freq=2.0), with freq of:\n",
      "      2.0 = termFreq=2.0\n",
      "    1.0603491 = idf(docFreq=1494, maxDocs=1588)\n",
      "    0.25 = fieldNorm(doc=3)\n",
      "\n"
     ]
    }
   ],
   "source": [
    "print explain['0553293354']"
   ]
  },
  {
   "cell_type": "code",
   "execution_count": 45,
   "metadata": {
    "collapsed": false
   },
   "outputs": [
    {
     "data": {
      "text/plain": [
       "u'_text:chinese name:tokenizer'"
      ]
     },
     "execution_count": 45,
     "metadata": {},
     "output_type": "execute_result"
    }
   ],
   "source": [
    "req = requests.get(\"http://localhost:8983/solr/gettingstarted/select?wt=json&indent=true&q=chinese+name:tokenizer&fl=*,score&debugQuery=true\")\n",
    "resp = req.json()\n",
    "resp['debug']['parsedquery']"
   ]
  },
  {
   "cell_type": "code",
   "execution_count": 46,
   "metadata": {
    "collapsed": false
   },
   "outputs": [
    {
     "name": "stdout",
     "output_type": "stream",
     "text": [
      "0.10238882 - /Users/dchud/Downloads/apps/solr-5.0.0/docs/solr-clustering/org/apache/solr/handler/clustering/carrot2/LuceneCarrot2TokenizerFactory.html: (no name)\n",
      "0.09220693 - /Users/dchud/Downloads/apps/solr-5.0.0/docs/solr-clustering/org/apache/solr/handler/clustering/carrot2/package-summary.html: (no name)\n",
      "0.009314307 - /Users/dchud/Downloads/apps/solr-5.0.0/docs/changes/Changes.html: (no name)\n"
     ]
    }
   ],
   "source": [
    "for doc in resp['response']['docs']:\n",
    "    print \"%s - %s: %s\" % (doc['score'], doc['id'], doc.get('name', '(no name)'))"
   ]
  },
  {
   "cell_type": "markdown",
   "metadata": {},
   "source": [
    "Because this is a slightly more complex query, we can see a lot more going on in the explanations."
   ]
  },
  {
   "cell_type": "code",
   "execution_count": 50,
   "metadata": {
    "collapsed": false
   },
   "outputs": [
    {
     "name": "stdout",
     "output_type": "stream",
     "text": [
      "/Users/dchud/Downloads/apps/solr-5.0.0/docs/changes/Changes.html\n",
      "0.009314307 = (MATCH) product of:\n",
      "  0.018628614 = (MATCH) sum of:\n",
      "    0.018628614 = (MATCH) weight(_text:chinese in 2) [DefaultSimilarity], result of:\n",
      "      0.018628614 = score(doc=2,freq=4.0), product of:\n",
      "        0.6558272 = queryWeight, product of:\n",
      "          7.2716184 = idf(docFreq=2, maxDocs=1588)\n",
      "          0.09018999 = queryNorm\n",
      "        0.02840476 = fieldWeight in 2, product of:\n",
      "          2.0 = tf(freq=4.0), with freq of:\n",
      "            4.0 = termFreq=4.0\n",
      "          7.2716184 = idf(docFreq=2, maxDocs=1588)\n",
      "          0.001953125 = fieldNorm(doc=2)\n",
      "  0.5 = coord(1/2)\n",
      "\n",
      "/Users/dchud/Downloads/apps/solr-5.0.0/docs/solr-clustering/org/apache/solr/handler/clustering/carrot2/package-summary.html\n",
      "0.09220693 = (MATCH) product of:\n",
      "  0.18441387 = (MATCH) sum of:\n",
      "    0.18441387 = (MATCH) weight(_text:chinese in 131) [DefaultSimilarity], result of:\n",
      "      0.18441387 = score(doc=131,freq=2.0), product of:\n",
      "        0.6558272 = queryWeight, product of:\n",
      "          7.2716184 = idf(docFreq=2, maxDocs=1588)\n",
      "          0.09018999 = queryNorm\n",
      "        0.28119275 = fieldWeight in 131, product of:\n",
      "          1.4142135 = tf(freq=2.0), with freq of:\n",
      "            2.0 = termFreq=2.0\n",
      "          7.2716184 = idf(docFreq=2, maxDocs=1588)\n",
      "          0.02734375 = fieldNorm(doc=131)\n",
      "  0.5 = coord(1/2)\n",
      "\n",
      "/Users/dchud/Downloads/apps/solr-5.0.0/docs/solr-clustering/org/apache/solr/handler/clustering/carrot2/LuceneCarrot2TokenizerFactory.html\n",
      "0.10238882 = (MATCH) product of:\n",
      "  0.20477764 = (MATCH) sum of:\n",
      "    0.20477764 = (MATCH) weight(_text:chinese in 122) [DefaultSimilarity], result of:\n",
      "      0.20477764 = score(doc=122,freq=4.0), product of:\n",
      "        0.6762287 = queryWeight, product of:\n",
      "          7.75227 = idf(docFreq=1, maxDocs=1712)\n",
      "          0.087229766 = queryNorm\n",
      "        0.30282307 = fieldWeight in 122, product of:\n",
      "          2.0 = tf(freq=4.0), with freq of:\n",
      "            4.0 = termFreq=4.0\n",
      "          7.75227 = idf(docFreq=1, maxDocs=1712)\n",
      "          0.01953125 = fieldNorm(doc=122)\n",
      "  0.5 = coord(1/2)\n",
      "\n"
     ]
    }
   ],
   "source": [
    "explain = resp['debug']['explain']\n",
    "for id, result in explain.items():\n",
    "    print \"%s%s\" % (id, result)"
   ]
  },
  {
   "cell_type": "code",
   "execution_count": null,
   "metadata": {
    "collapsed": true
   },
   "outputs": [],
   "source": []
  }
 ],
 "metadata": {
  "kernelspec": {
   "display_name": "Python 2",
   "language": "python",
   "name": "python2"
  },
  "language_info": {
   "codemirror_mode": {
    "name": "ipython",
    "version": 2
   },
   "file_extension": ".py",
   "mimetype": "text/x-python",
   "name": "python",
   "nbconvert_exporter": "python",
   "pygments_lexer": "ipython2",
   "version": "2.7.6"
  }
 },
 "nbformat": 4,
 "nbformat_minor": 0
}
