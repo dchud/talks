{
 "cells": [
  {
   "cell_type": "markdown",
   "metadata": {
    "collapsed": true
   },
   "source": [
    "# A quick tour of Lucene and Solr\n",
    "\n",
    "[Lucene](http://lucene.apache.org/) is a widely used information retrieval library in Java.\n",
    "\n",
    "* implements the TF-IDF model\n",
    "* simple model for indexing and search\n",
    "* easy to learn, fast, and scalable\n",
    "* written by Doug Cutting, who later co-wrote Hadoop\n",
    "* I've been using it since 2001 ([DSpace](http://dspace.org/), [Canary](http://canarydatabase.org/), [WDL](http://wdl.org/), [Chronam](http://chroniclingamerica.loc.gov), [GW Libs](http://library.gwu.edu/))\n",
    "* free, open source software"
   ]
  },
  {
   "cell_type": "markdown",
   "metadata": {},
   "source": [
    "## Lucene basics\n",
    "\n",
    "* everything is a Document (source format independent)\n",
    "* Documents have Fields\n",
    "* Fields can be tokenized, indexed, stored, multivalue (or not)\n",
    "* text is Tokenized, Analyzed on index and query\n",
    "* queries are parsed, then Tokenized, Analyzed, and results ranked\n",
    "\n",
    "See [a simple example of code using the Lucene API](http://lucene.apache.org/core/5_0_0/core/overview-summary.html#overview_description) and also [more extensive Lucene documentation](http://lucene.apache.org/core/5_0_0/index.html)."
   ]
  },
  {
   "cell_type": "markdown",
   "metadata": {},
   "source": [
    "## Relevance in Lucene\n",
    "\n",
    "* Lucene uses a modified TF-IDF (cosine similarity) strategy by default\n",
    "* adds term (field value) level boosting at index time, and query term boosting\n",
    "* adds coordination factor for multi-term queries\n",
    "* adds query normalization to make scores comparable across queries (comparison not meaningful otherwise)\n",
    "* adds field length normalization so shorter fields contribute more\n",
    "* optional [Term Vector Component](https://cwiki.apache.org/confluence/display/solr/The+Term+Vector+Component) supports further exploration of query result and corpus similarity\n",
    "* explained [in detail here](http://lucene.apache.org/core/5_0_0/core/org/apache/lucene/search/similarities/TFIDFSimilarity.html)\n",
    "* can swap this out for other similarity functions"
   ]
  },
  {
   "cell_type": "markdown",
   "metadata": {},
   "source": [
    "\n",
    "## Solr basics\n",
    "\n",
    "[Solr](http://lucene.apache.org/solr/) is a search application (server) that makes Lucene even easier to implement and scale.\n",
    "\n",
    "* Lucene under the hood\n",
    "* simple \"index anything\" or schema-based configuration\n",
    "* simple web API to index and search\n",
    "* scales to many servers\n",
    "* very widely used\n",
    "* free, open source software"
   ]
  },
  {
   "cell_type": "markdown",
   "metadata": {},
   "source": [
    "# Working with Solr\n",
    "\n",
    "* index and search using web API - easier code\n",
    "* define a schema first, or don't\n",
    "* csv, json, xml results easy to parse in any language\n",
    "* handles many technical details (caching, faceting, spelling corrections, clustering, hit hightlighting)\n",
    "* the bee's knees, basically"
   ]
  },
  {
   "cell_type": "markdown",
   "metadata": {},
   "source": [
    "## Searching solr\n",
    "\n",
    "It's as easy as sending an HTTP request.  Let's use [python-requests](http://docs.python-requests.org/en/latest/) to handle HTTP."
   ]
  },
  {
   "cell_type": "code",
   "execution_count": 50,
   "metadata": {
    "collapsed": false
   },
   "outputs": [
    {
     "name": "stdout",
     "output_type": "stream",
     "text": [
      "{\n",
      "  \"responseHeader\":{\n",
      "    \"status\":0,\n",
      "    \"QTime\":18,\n",
      "    \"params\":{\n",
      "      \"q\":\"foundation\",\n",
      "      \"indent\":\"true\",\n",
      "      \"wt\":\"json\"}},\n",
      "  \"response\":{\"numFound\":3672,\"start\":0,\"maxScore\":0.39567953,\"docs\":[\n",
      "      {\n",
      "        \"id\":\"0553293354\",\n",
      "        \"cat\":[\"book\"],\n",
      "        \"name\":[\"Foundation\"],\n",
      "        \"price\":[7.99],\n",
      "        \"inStock\":[true],\n",
      "        \"author\":[\"Isaac Asimov\"],\n",
      "        \"series_t\":[\"Foundation Novels\"],\n",
      "        \"sequence_i\":1,\n",
      "        \"genre_s\":\"scifi\",\n",
      "        \"_version_\":1494510828527812608},\n",
      "      {\n",
      "        \"id\":\"UTF8TEST\",\n",
      "        \"name\":[\"Test with some UTF-8 encoded characters\"],\n",
      "        \"manu\":[\"Apache Software Foundation\"],\n",
      "        \"cat\":[\"software\",\n",
      "          \"search\"],\n",
      "        \"features\":[\"No accents here\",\n",
      "          \"This is an e acute: é\",\n",
      "          \"eaiou with circumflexes: êâîôû\",\n",
      "          \"eaiou with umlauts: ëäïöü\",\n",
      "          \"tag with escaped chars: <nicetag/>\",\n",
      "          \"escaped ampersand: Bonnie & Clyde\",\n",
      "          \"Outside the BMP:𐌈 codepoint=10308, a circle with an x inside. UTF8=f0908c88 UTF16=d800 df08\"],\n",
      "        \"price\":[0.0],\n",
      "        \"inStock\":[true],\n",
      "        \"_version_\":1494510737274437632},\n",
      "      {\n",
      "        \"id\":\"SOLR1000\",\n",
      "        \"name\":[\"Solr, the Enterprise Search Server\"],\n",
      "        \"manu\":[\"Apache Software Foundation\"],\n",
      "        \"cat\":[\"software\",\n",
      "          \"search\"],\n",
      "        \"features\":[\"Advanced Full-Text Search Capabilities using Lucene\",\n",
      "          \"Optimized for High Volume Web Traffic\",\n",
      "          \"Standards Based Open Interfaces - XML and HTTP\",\n",
      "          \"Comprehensive HTML Administration Interfaces\",\n",
      "          \"Scalability - Efficient Replication to other Solr Search Servers\",\n",
      "          \"Flexible and Adaptable with XML configuration and Schema\",\n",
      "          \"Good unicode support: héllo (hello with an accent over the e)\"],\n",
      "        \"price\":[0.0],\n",
      "        \"popularity\":[10],\n",
      "        \"inStock\":[true],\n",
      "        \"incubationdate_dt\":\"2006-01-17T00:00:00Z\",\n",
      "        \"_version_\":1494510737252417536},\n",
      "      {\n",
      "        \"id\":\"/Volumes/PGCD0803/etext03/vbgle11h/index.html\",\n",
      "        \"stream_size\":[15787],\n",
      "        \"x_parsed_by\":[\"org.apache.tika.parser.DefaultParser\",\n",
      "          \"org.apache.tika.parser.html.HtmlParser\"],\n",
      "        \"stream_content_type\":[\"text/html\"],\n",
      "        \"dc_title\":[\"The Voyage of the\"],\n",
      "        \"content_encoding\":[\"windows-1252\"],\n",
      "        \"resourcename\":[\"/Volumes/PGCD0803/etext03/vbgle11h/index.html\"],\n",
      "        \"title\":[\"The Voyage of the\"],\n",
      "        \"content_type\":[\"text/html; charset=windows-1252\"],\n",
      "        \"_version_\":1494514311470514176},\n",
      "      {\n",
      "        \"id\":\"/Users/dchud/Downloads/apps/solr-5.0.0/docs/solr-core/org/apache/solr/spelling/suggest/tst/package-use.html\",\n",
      "        \"stream_size\":[4687],\n",
      "        \"date\":[\"2015-02-15T00:00:00Z\"],\n",
      "        \"x_parsed_by\":[\"org.apache.tika.parser.DefaultParser\",\n",
      "          \"org.apache.tika.parser.html.HtmlParser\"],\n",
      "        \"stream_content_type\":[\"text/html\"],\n",
      "        \"dc_title\":[\"Uses of Package org.apache.solr.spelling.suggest.tst (Solr 5.0.0 API)\"],\n",
      "        \"content_encoding\":[\"UTF-8\"],\n",
      "        \"resourcename\":[\"/Users/dchud/Downloads/apps/solr-5.0.0/docs/solr-core/org/apache/solr/spelling/suggest/tst/package-use.html\"],\n",
      "        \"title\":[\"Uses of Package org.apache.solr.spelling.suggest.tst (Solr 5.0.0 API)\"],\n",
      "        \"content_type\":[\"text/html\"],\n",
      "        \"_version_\":1494510695971028992},\n",
      "      {\n",
      "        \"id\":\"/Users/dchud/Downloads/apps/solr-5.0.0/docs/solr-dataimporthandler-extras/deprecated-list.html\",\n",
      "        \"stream_size\":[4281],\n",
      "        \"date\":[\"2015-02-15T00:00:00Z\"],\n",
      "        \"x_parsed_by\":[\"org.apache.tika.parser.DefaultParser\",\n",
      "          \"org.apache.tika.parser.html.HtmlParser\"],\n",
      "        \"stream_content_type\":[\"text/html\"],\n",
      "        \"dc_title\":[\"Deprecated List (Solr 5.0.0 API)\"],\n",
      "        \"content_encoding\":[\"UTF-8\"],\n",
      "        \"resourcename\":[\"/Users/dchud/Downloads/apps/solr-5.0.0/docs/solr-dataimporthandler-extras/deprecated-list.html\"],\n",
      "        \"title\":[\"Deprecated List (Solr 5.0.0 API)\"],\n",
      "        \"content_type\":[\"text/html\"],\n",
      "        \"_version_\":1494510704554672128},\n",
      "      {\n",
      "        \"id\":\"/Users/dchud/Downloads/apps/solr-5.0.0/docs/solr-analytics/deprecated-list.html\",\n",
      "        \"stream_size\":[4073],\n",
      "        \"date\":[\"2015-02-15T00:00:00Z\"],\n",
      "        \"x_parsed_by\":[\"org.apache.tika.parser.DefaultParser\",\n",
      "          \"org.apache.tika.parser.html.HtmlParser\"],\n",
      "        \"stream_content_type\":[\"text/html\"],\n",
      "        \"dc_title\":[\"Deprecated List (Solr 5.0.0 API)\"],\n",
      "        \"content_encoding\":[\"UTF-8\"],\n",
      "        \"resourcename\":[\"/Users/dchud/Downloads/apps/solr-5.0.0/docs/solr-analytics/deprecated-list.html\"],\n",
      "        \"title\":[\"Deprecated List (Solr 5.0.0 API)\"],\n",
      "        \"content_type\":[\"text/html\"],\n",
      "        \"_version_\":1494510665818177536},\n",
      "      {\n",
      "        \"id\":\"/Users/dchud/Downloads/apps/solr-5.0.0/docs/solr-clustering/org/apache/solr/handler/clustering/carrot2/package-use.html\",\n",
      "        \"stream_size\":[4729],\n",
      "        \"date\":[\"2015-02-15T00:00:00Z\"],\n",
      "        \"x_parsed_by\":[\"org.apache.tika.parser.DefaultParser\",\n",
      "          \"org.apache.tika.parser.html.HtmlParser\"],\n",
      "        \"stream_content_type\":[\"text/html\"],\n",
      "        \"dc_title\":[\"Uses of Package org.apache.solr.handler.clustering.carrot2 (Solr 5.0.0 API)\"],\n",
      "        \"content_encoding\":[\"UTF-8\"],\n",
      "        \"resourcename\":[\"/Users/dchud/Downloads/apps/solr-5.0.0/docs/solr-clustering/org/apache/solr/handler/clustering/carrot2/package-use.html\"],\n",
      "        \"title\":[\"Uses of Package org.apache.solr.handler.clustering.carrot2 (Solr 5.0.0 API)\"],\n",
      "        \"content_type\":[\"text/html\"],\n",
      "        \"_version_\":1494510672130605056},\n",
      "      {\n",
      "        \"id\":\"/Users/dchud/Downloads/apps/solr-5.0.0/docs/solr-core/org/apache/solr/logging/log4j/package-use.html\",\n",
      "        \"stream_size\":[4602],\n",
      "        \"date\":[\"2015-02-15T00:00:00Z\"],\n",
      "        \"x_parsed_by\":[\"org.apache.tika.parser.DefaultParser\",\n",
      "          \"org.apache.tika.parser.html.HtmlParser\"],\n",
      "        \"stream_content_type\":[\"text/html\"],\n",
      "        \"dc_title\":[\"Uses of Package org.apache.solr.logging.log4j (Solr 5.0.0 API)\"],\n",
      "        \"content_encoding\":[\"UTF-8\"],\n",
      "        \"resourcename\":[\"/Users/dchud/Downloads/apps/solr-5.0.0/docs/solr-core/org/apache/solr/logging/log4j/package-use.html\"],\n",
      "        \"title\":[\"Uses of Package org.apache.solr.logging.log4j (Solr 5.0.0 API)\"],\n",
      "        \"content_type\":[\"text/html\"],\n",
      "        \"_version_\":1494510682799865856},\n",
      "      {\n",
      "        \"id\":\"/Users/dchud/Downloads/apps/solr-5.0.0/docs/solr-solrj/org/apache/solr/client/solrj/util/package-use.html\",\n",
      "        \"stream_size\":[4666],\n",
      "        \"date\":[\"2015-02-15T00:00:00Z\"],\n",
      "        \"x_parsed_by\":[\"org.apache.tika.parser.DefaultParser\",\n",
      "          \"org.apache.tika.parser.html.HtmlParser\"],\n",
      "        \"stream_content_type\":[\"text/html\"],\n",
      "        \"dc_title\":[\"Uses of Package org.apache.solr.client.solrj.util (Solr 5.0.0 API)\"],\n",
      "        \"content_encoding\":[\"UTF-8\"],\n",
      "        \"resourcename\":[\"/Users/dchud/Downloads/apps/solr-5.0.0/docs/solr-solrj/org/apache/solr/client/solrj/util/package-use.html\"],\n",
      "        \"title\":[\"Uses of Package org.apache.solr.client.solrj.util (Solr 5.0.0 API)\"],\n",
      "        \"content_type\":[\"text/html\"],\n",
      "        \"_version_\":1494510710582935552}]\n",
      "  }}\n",
      "\n"
     ]
    }
   ],
   "source": [
    "import requests\n",
    "req = requests.get(\"http://localhost:8983/solr/gettingstarted/select?wt=json&q=foundation&indent=true\")\n",
    "print req.content"
   ]
  },
  {
   "cell_type": "markdown",
   "metadata": {},
   "source": [
    "If you haven't seen it before, this is [JSON](http://json.org/), a very easy to produce and parse format that is widely used on the web.  Many APIs return JSON content, and every language you might use supports JSON.  It's built in to python (`import json`), and it's so common that modules like `requests` automatically parse it for you, like this:"
   ]
  },
  {
   "cell_type": "code",
   "execution_count": 51,
   "metadata": {
    "collapsed": false
   },
   "outputs": [
    {
     "data": {
      "text/plain": [
       "[u'responseHeader', u'response']"
      ]
     },
     "execution_count": 51,
     "metadata": {},
     "output_type": "execute_result"
    }
   ],
   "source": [
    "resp = req.json()\n",
    "resp.keys()"
   ]
  },
  {
   "cell_type": "markdown",
   "metadata": {},
   "source": [
    "As you can see, the JSON response is just a big dictionary, and the `json()` function parses it (as text, like as above) and returns an in-memory python dictionary.\n",
    "\n",
    "**Don't be fooled** - if you print a python dictionary out it will look a lot like this.  This is mostly a happy convenience.  It is very important to use well-tested JSON libraries to produce and parse JSON, like what we have here.  Mistakes in JSON encoding may be made accidentally or purposefully, for malicious reasons.  Always use a JSON library instead of something like python's `eval()`.\n",
    "\n",
    "Anyway, back to the data.  The response header is pretty straightforward:"
   ]
  },
  {
   "cell_type": "code",
   "execution_count": 52,
   "metadata": {
    "collapsed": false
   },
   "outputs": [
    {
     "data": {
      "text/plain": [
       "{u'QTime': 18,\n",
       " u'params': {u'indent': u'true', u'q': u'foundation', u'wt': u'json'},\n",
       " u'status': 0}"
      ]
     },
     "execution_count": 52,
     "metadata": {},
     "output_type": "execute_result"
    }
   ],
   "source": [
    "resp['responseHeader']"
   ]
  },
  {
   "cell_type": "markdown",
   "metadata": {},
   "source": [
    "Pretty straightforward.  The more interesting bits are in the query response."
   ]
  },
  {
   "cell_type": "code",
   "execution_count": 53,
   "metadata": {
    "collapsed": false
   },
   "outputs": [
    {
     "data": {
      "text/plain": [
       "[u'start', u'maxScore', u'numFound', u'docs']"
      ]
     },
     "execution_count": 53,
     "metadata": {},
     "output_type": "execute_result"
    }
   ],
   "source": [
    "resp['response'].keys()"
   ]
  },
  {
   "cell_type": "code",
   "execution_count": 54,
   "metadata": {
    "collapsed": false
   },
   "outputs": [
    {
     "data": {
      "text/plain": [
       "0"
      ]
     },
     "execution_count": 54,
     "metadata": {},
     "output_type": "execute_result"
    }
   ],
   "source": [
    "resp['response']['start']"
   ]
  },
  {
   "cell_type": "code",
   "execution_count": 55,
   "metadata": {
    "collapsed": false
   },
   "outputs": [
    {
     "data": {
      "text/plain": [
       "0.39567953"
      ]
     },
     "execution_count": 55,
     "metadata": {},
     "output_type": "execute_result"
    }
   ],
   "source": [
    "resp['response']['maxScore']"
   ]
  },
  {
   "cell_type": "code",
   "execution_count": 56,
   "metadata": {
    "collapsed": false
   },
   "outputs": [
    {
     "data": {
      "text/plain": [
       "3672"
      ]
     },
     "execution_count": 56,
     "metadata": {},
     "output_type": "execute_result"
    }
   ],
   "source": [
    "resp['response']['numFound']"
   ]
  },
  {
   "cell_type": "markdown",
   "metadata": {},
   "source": [
    "That's the basic header.  We're starting with the first page of results, and it's a zero-based index, which explains why \"start\" is 0.  We'll look more at scores in a moment.\n",
    "\n",
    "Let's take a look at the results first."
   ]
  },
  {
   "cell_type": "code",
   "execution_count": 57,
   "metadata": {
    "collapsed": false
   },
   "outputs": [
    {
     "data": {
      "text/plain": [
       "10"
      ]
     },
     "execution_count": 57,
     "metadata": {},
     "output_type": "execute_result"
    }
   ],
   "source": [
    "len(resp['response']['docs'])"
   ]
  },
  {
   "cell_type": "code",
   "execution_count": 58,
   "metadata": {
    "collapsed": false
   },
   "outputs": [
    {
     "data": {
      "text/plain": [
       "{u'_version_': 1494510828527812608,\n",
       " u'author': [u'Isaac Asimov'],\n",
       " u'cat': [u'book'],\n",
       " u'genre_s': u'scifi',\n",
       " u'id': u'0553293354',\n",
       " u'inStock': [True],\n",
       " u'name': [u'Foundation'],\n",
       " u'price': [7.99],\n",
       " u'sequence_i': 1,\n",
       " u'series_t': [u'Foundation Novels']}"
      ]
     },
     "execution_count": 58,
     "metadata": {},
     "output_type": "execute_result"
    }
   ],
   "source": [
    "docs = resp['response']['docs']\n",
    "docs[0]"
   ]
  },
  {
   "cell_type": "markdown",
   "metadata": {},
   "source": [
    "What we see in this response is a combination of metadata about the result as a \"hit\" and the field values that were stored at index time."
   ]
  },
  {
   "cell_type": "code",
   "execution_count": 59,
   "metadata": {
    "collapsed": false
   },
   "outputs": [
    {
     "data": {
      "text/plain": [
       "{u'_version_': 1494510737274437632,\n",
       " u'cat': [u'software', u'search'],\n",
       " u'features': [u'No accents here',\n",
       "  u'This is an e acute: \\xe9',\n",
       "  u'eaiou with circumflexes: \\xea\\xe2\\xee\\xf4\\xfb',\n",
       "  u'eaiou with umlauts: \\xeb\\xe4\\xef\\xf6\\xfc',\n",
       "  u'tag with escaped chars: <nicetag/>',\n",
       "  u'escaped ampersand: Bonnie & Clyde',\n",
       "  u'Outside the BMP:\\U00010308 codepoint=10308, a circle with an x inside. UTF8=f0908c88 UTF16=d800 df08'],\n",
       " u'id': u'UTF8TEST',\n",
       " u'inStock': [True],\n",
       " u'manu': [u'Apache Software Foundation'],\n",
       " u'name': [u'Test with some UTF-8 encoded characters'],\n",
       " u'price': [0.0]}"
      ]
     },
     "execution_count": 59,
     "metadata": {},
     "output_type": "execute_result"
    }
   ],
   "source": [
    "docs[1]"
   ]
  },
  {
   "cell_type": "markdown",
   "metadata": {},
   "source": [
    "In a web application context, we can iterate over results and display them like this:"
   ]
  },
  {
   "cell_type": "code",
   "execution_count": 60,
   "metadata": {
    "collapsed": false
   },
   "outputs": [
    {
     "name": "stdout",
     "output_type": "stream",
     "text": [
      "0553293354: [u'Foundation'], $[7.99]\n",
      "UTF8TEST: [u'Test with some UTF-8 encoded characters'], $[0.0]\n",
      "SOLR1000: [u'Solr, the Enterprise Search Server'], $[0.0]\n",
      "/Volumes/PGCD0803/etext03/vbgle11h/index.html: (no title), $-\n",
      "/Users/dchud/Downloads/apps/solr-5.0.0/docs/solr-core/org/apache/solr/spelling/suggest/tst/package-use.html: (no title), $-\n",
      "/Users/dchud/Downloads/apps/solr-5.0.0/docs/solr-dataimporthandler-extras/deprecated-list.html: (no title), $-\n",
      "/Users/dchud/Downloads/apps/solr-5.0.0/docs/solr-analytics/deprecated-list.html: (no title), $-\n",
      "/Users/dchud/Downloads/apps/solr-5.0.0/docs/solr-clustering/org/apache/solr/handler/clustering/carrot2/package-use.html: (no title), $-\n",
      "/Users/dchud/Downloads/apps/solr-5.0.0/docs/solr-core/org/apache/solr/logging/log4j/package-use.html: (no title), $-\n",
      "/Users/dchud/Downloads/apps/solr-5.0.0/docs/solr-solrj/org/apache/solr/client/solrj/util/package-use.html: (no title), $-\n"
     ]
    }
   ],
   "source": [
    "for doc in docs:\n",
    "    print \"%s: %s, $%s\" % (doc['id'], doc.get('name', '(no title)'), doc.get('price', '-'))"
   ]
  },
  {
   "cell_type": "markdown",
   "metadata": {},
   "source": [
    "In a web application you'd do a lot more than just this... probably formatting a link to the item, making it look good, and then adding buttons to page through results, display information about how many results there were overall (`numFound`), etc.\n",
    "\n",
    "Let's revisit this query and add relevance rank scores to the results."
   ]
  },
  {
   "cell_type": "code",
   "execution_count": 89,
   "metadata": {
    "collapsed": false
   },
   "outputs": [
    {
     "data": {
      "text/plain": [
       "{u'_version_': 1494510828527812608,\n",
       " u'author': [u'Isaac Asimov'],\n",
       " u'cat': [u'book'],\n",
       " u'genre_s': u'scifi',\n",
       " u'id': u'0553293354',\n",
       " u'inStock': [True],\n",
       " u'name': [u'Foundation'],\n",
       " u'price': [7.99],\n",
       " u'score': 0.39567953,\n",
       " u'sequence_i': 1,\n",
       " u'series_t': [u'Foundation Novels']}"
      ]
     },
     "execution_count": 89,
     "metadata": {},
     "output_type": "execute_result"
    }
   ],
   "source": [
    "# add \"fl=*,score\" to get all stored fields along with the relevance score\n",
    "req = requests.get(\"http://localhost:8983/solr/gettingstarted/select?wt=json&q=foundation&fl=*,score\")\n",
    "resp = req.json()\n",
    "docs = resp['response']['docs']\n",
    "docs[0]"
   ]
  },
  {
   "cell_type": "code",
   "execution_count": 62,
   "metadata": {
    "collapsed": false
   },
   "outputs": [
    {
     "name": "stdout",
     "output_type": "stream",
     "text": [
      "0.39567953 - [u'Foundation']\n",
      "0.13989384 - [u'Test with some UTF-8 encoded characters']\n",
      "0.122407116 - [u'Solr, the Enterprise Search Server']\n",
      "0.06483684 - (no title)\n",
      "0.061824925 - (no title)\n",
      "0.061824925 - (no title)\n",
      "0.061824925 - (no title)\n",
      "0.061824925 - (no title)\n",
      "0.061824925 - (no title)\n",
      "0.061824925 - (no title)\n"
     ]
    }
   ],
   "source": [
    "for doc in docs:\n",
    "    print \"%s - %s\" % (doc['score'], doc.get('name', '(no title)'))"
   ]
  },
  {
   "cell_type": "markdown",
   "metadata": {},
   "source": [
    "# Under the hood\n",
    "\n",
    "Now let's take a closer look at how those relevance scores are generated. Solr offers easy tools for examining a live index and debugging information about results."
   ]
  },
  {
   "cell_type": "code",
   "execution_count": 63,
   "metadata": {
    "collapsed": false
   },
   "outputs": [
    {
     "data": {
      "text/plain": [
       "[u'debug', u'responseHeader', u'response']"
      ]
     },
     "execution_count": 63,
     "metadata": {},
     "output_type": "execute_result"
    }
   ],
   "source": [
    "# Add parameter debugQuery=true, repeat\n",
    "req = requests.get(\"http://localhost:8983/solr/gettingstarted/select?wt=json&q=foundation&fl=*,score&debugQuery=true\")\n",
    "resp = req.json()\n",
    "resp.keys()"
   ]
  },
  {
   "cell_type": "markdown",
   "metadata": {},
   "source": [
    "Let's look at that `debug` element:"
   ]
  },
  {
   "cell_type": "code",
   "execution_count": 64,
   "metadata": {
    "collapsed": false
   },
   "outputs": [
    {
     "data": {
      "text/plain": [
       "[u'parsedquery',\n",
       " u'track',\n",
       " u'explain',\n",
       " u'querystring',\n",
       " u'rawquerystring',\n",
       " u'parsedquery_toString',\n",
       " u'QParser',\n",
       " u'timing']"
      ]
     },
     "execution_count": 64,
     "metadata": {},
     "output_type": "execute_result"
    }
   ],
   "source": [
    "debug = resp['debug']\n",
    "debug.keys()"
   ]
  },
  {
   "cell_type": "markdown",
   "metadata": {},
   "source": [
    "First, we can see that the query is parsed to determine how it should be processed.  In the absence of named fields, it assumes a default, here `_text`."
   ]
  },
  {
   "cell_type": "code",
   "execution_count": 65,
   "metadata": {
    "collapsed": false
   },
   "outputs": [
    {
     "data": {
      "text/plain": [
       "u'LuceneQParser'"
      ]
     },
     "execution_count": 65,
     "metadata": {},
     "output_type": "execute_result"
    }
   ],
   "source": [
    "debug['QParser']"
   ]
  },
  {
   "cell_type": "code",
   "execution_count": 66,
   "metadata": {
    "collapsed": false
   },
   "outputs": [
    {
     "data": {
      "text/plain": [
       "u'foundation'"
      ]
     },
     "execution_count": 66,
     "metadata": {},
     "output_type": "execute_result"
    }
   ],
   "source": [
    "debug['rawquerystring']"
   ]
  },
  {
   "cell_type": "code",
   "execution_count": 67,
   "metadata": {
    "collapsed": false
   },
   "outputs": [
    {
     "data": {
      "text/plain": [
       "u'_text:foundation'"
      ]
     },
     "execution_count": 67,
     "metadata": {},
     "output_type": "execute_result"
    }
   ],
   "source": [
    "debug['parsedquery']"
   ]
  },
  {
   "cell_type": "markdown",
   "metadata": {},
   "source": [
    "The `timing` element gives the processing time in milliseconds.  Note that a lot of tasks were not performed."
   ]
  },
  {
   "cell_type": "code",
   "execution_count": 68,
   "metadata": {
    "collapsed": false
   },
   "outputs": [
    {
     "data": {
      "text/plain": [
       "{u'prepare': {u'debug': {u'time': 0.0},\n",
       "  u'expand': {u'time': 0.0},\n",
       "  u'facet': {u'time': 0.0},\n",
       "  u'highlight': {u'time': 0.0},\n",
       "  u'mlt': {u'time': 0.0},\n",
       "  u'query': {u'time': 4.0},\n",
       "  u'stats': {u'time': 0.0},\n",
       "  u'time': 4.0},\n",
       " u'process': {u'debug': {u'time': 7.0},\n",
       "  u'expand': {u'time': 0.0},\n",
       "  u'facet': {u'time': 0.0},\n",
       "  u'highlight': {u'time': 0.0},\n",
       "  u'mlt': {u'time': 0.0},\n",
       "  u'query': {u'time': 4.0},\n",
       "  u'stats': {u'time': 0.0},\n",
       "  u'time': 12.0},\n",
       " u'time': 16.0}"
      ]
     },
     "execution_count": 68,
     "metadata": {},
     "output_type": "execute_result"
    }
   ],
   "source": [
    "debug['timing']"
   ]
  },
  {
   "cell_type": "markdown",
   "metadata": {},
   "source": [
    "## The good stuff: relevance scoring\n",
    "\n",
    "Now we get to the good bits.  The `explain` element contains the precise scoring details for each aspect of a parsed query. "
   ]
  },
  {
   "cell_type": "code",
   "execution_count": 69,
   "metadata": {
    "collapsed": false
   },
   "outputs": [
    {
     "data": {
      "text/plain": [
       "[u'0553293354',\n",
       " u'/Volumes/PGCD0803/etext03/vbgle11h/index.html',\n",
       " u'UTF8TEST',\n",
       " u'/Users/dchud/Downloads/apps/solr-5.0.0/docs/solr-core/org/apache/solr/spelling/suggest/tst/package-use.html',\n",
       " u'/Users/dchud/Downloads/apps/solr-5.0.0/docs/solr-solrj/org/apache/solr/client/solrj/util/package-use.html',\n",
       " u'/Users/dchud/Downloads/apps/solr-5.0.0/docs/solr-core/org/apache/solr/logging/log4j/package-use.html',\n",
       " u'/Users/dchud/Downloads/apps/solr-5.0.0/docs/solr-dataimporthandler-extras/deprecated-list.html',\n",
       " u'SOLR1000',\n",
       " u'/Users/dchud/Downloads/apps/solr-5.0.0/docs/solr-clustering/org/apache/solr/handler/clustering/carrot2/package-use.html',\n",
       " u'/Users/dchud/Downloads/apps/solr-5.0.0/docs/solr-analytics/deprecated-list.html']"
      ]
     },
     "execution_count": 69,
     "metadata": {},
     "output_type": "execute_result"
    }
   ],
   "source": [
    "explain = debug['explain']\n",
    "explain.keys()"
   ]
  },
  {
   "cell_type": "code",
   "execution_count": 70,
   "metadata": {
    "collapsed": false
   },
   "outputs": [
    {
     "name": "stdout",
     "output_type": "stream",
     "text": [
      "\n",
      "0.13989384 = (MATCH) weight(_text:foundation in 1578) [DefaultSimilarity], result of:\n",
      "  0.13989384 = fieldWeight in 1578, product of:\n",
      "    1.0 = tf(freq=1.0), with freq of:\n",
      "      1.0 = termFreq=1.0\n",
      "    1.1191508 = idf(docFreq=1785, maxDocs=2012)\n",
      "    0.125 = fieldNorm(doc=1578)\n",
      "\n"
     ]
    }
   ],
   "source": [
    "print explain['UTF8TEST']"
   ]
  },
  {
   "cell_type": "code",
   "execution_count": 71,
   "metadata": {
    "collapsed": false
   },
   "outputs": [
    {
     "name": "stdout",
     "output_type": "stream",
     "text": [
      "\n",
      "0.39567953 = (MATCH) weight(_text:foundation in 1586) [DefaultSimilarity], result of:\n",
      "  0.39567953 = fieldWeight in 1586, product of:\n",
      "    1.4142135 = tf(freq=2.0), with freq of:\n",
      "      2.0 = termFreq=2.0\n",
      "    1.1191508 = idf(docFreq=1785, maxDocs=2012)\n",
      "    0.25 = fieldNorm(doc=1586)\n",
      "\n"
     ]
    }
   ],
   "source": [
    "print explain['0553293354']"
   ]
  },
  {
   "cell_type": "code",
   "execution_count": 72,
   "metadata": {
    "collapsed": false
   },
   "outputs": [
    {
     "data": {
      "text/plain": [
       "u'_text:chinese name:tokenizer'"
      ]
     },
     "execution_count": 72,
     "metadata": {},
     "output_type": "execute_result"
    }
   ],
   "source": [
    "req = requests.get(\"http://localhost:8983/solr/gettingstarted/select?wt=json&q=chinese+name:tokenizer&fl=*,score&debugQuery=true\")\n",
    "resp = req.json()\n",
    "resp['debug']['parsedquery']"
   ]
  },
  {
   "cell_type": "code",
   "execution_count": 73,
   "metadata": {
    "collapsed": false
   },
   "outputs": [
    {
     "name": "stdout",
     "output_type": "stream",
     "text": [
      "0.032653715 - /Volumes/PGCD0803/etext00/rbddh10.txt: (no name)\n",
      "0.03125867 - /Users/dchud/Downloads/apps/solr-5.0.0/docs/solr-clustering/org/apache/solr/handler/clustering/carrot2/LuceneCarrot2TokenizerFactory.html: (no name)\n",
      "0.030319117 - /Users/dchud/Downloads/apps/solr-5.0.0/docs/solr-clustering/org/apache/solr/handler/clustering/carrot2/package-summary.html: (no name)\n",
      "0.026523702 - /Volumes/PGCD0803/etext00/rlchn10.txt: (no name)\n",
      "0.025249962 - /Volumes/PGCD0803/etext94/sunzu10.txt: (no name)\n",
      "0.023208376 - /Volumes/PGCD0803/etext04/hmjnc11h/chap26.html: (no name)\n",
      "0.019769719 - /Volumes/PGCD0803/etext04/hmjnc11h/chap28.html: (no name)\n",
      "0.019723328 - /Volumes/PGCD0803/etext05/8igjp10.txt: (no name)\n",
      "0.019395495 - /Volumes/PGCD0803/etext04/samur10.txt: (no name)\n",
      "0.017682573 - /Volumes/PGCD0803/etext04/conra10.txt: (no name)\n"
     ]
    }
   ],
   "source": [
    "for doc in resp['response']['docs']:\n",
    "    print \"%s - %s: %s\" % (doc['score'], doc['id'], doc.get('name', '(no name)'))"
   ]
  },
  {
   "cell_type": "markdown",
   "metadata": {},
   "source": [
    "Because this is a slightly more complex query, we can see a lot more going on in the explanations."
   ]
  },
  {
   "cell_type": "code",
   "execution_count": 74,
   "metadata": {
    "collapsed": false
   },
   "outputs": [
    {
     "name": "stdout",
     "output_type": "stream",
     "text": [
      "/Volumes/PGCD0803/etext94/sunzu10.txt\n",
      "0.025249964 = (MATCH) product of:\n",
      "  0.050499927 = (MATCH) sum of:\n",
      "    0.050499927 = (MATCH) weight(_text:chinese in 15) [DefaultSimilarity], result of:\n",
      "      0.050499927 = score(doc=15,freq=116.0), product of:\n",
      "        0.41048786 = queryWeight, product of:\n",
      "          3.8988824 = idf(docFreq=116, maxDocs=2124)\n",
      "          0.10528347 = queryNorm\n",
      "        0.123024166 = fieldWeight in 15, product of:\n",
      "          10.770329 = tf(freq=116.0), with freq of:\n",
      "            116.0 = termFreq=116.0\n",
      "          3.8988824 = idf(docFreq=116, maxDocs=2124)\n",
      "          0.0029296875 = fieldNorm(doc=15)\n",
      "  0.5 = coord(1/2)\n",
      "\n",
      "/Volumes/PGCD0803/etext05/8igjp10.txt\n",
      "0.01972333 = (MATCH) product of:\n",
      "  0.03944666 = (MATCH) sum of:\n",
      "    0.03944666 = (MATCH) weight(_text:chinese in 64) [DefaultSimilarity], result of:\n",
      "      0.03944666 = score(doc=64,freq=52.0), product of:\n",
      "        0.41048786 = queryWeight, product of:\n",
      "          3.8988824 = idf(docFreq=116, maxDocs=2124)\n",
      "          0.10528347 = queryNorm\n",
      "        0.096097015 = fieldWeight in 64, product of:\n",
      "          7.2111025 = tf(freq=52.0), with freq of:\n",
      "            52.0 = termFreq=52.0\n",
      "          3.8988824 = idf(docFreq=116, maxDocs=2124)\n",
      "          0.0034179688 = fieldNorm(doc=64)\n",
      "  0.5 = coord(1/2)\n",
      "\n",
      "/Volumes/PGCD0803/etext04/hmjnc11h/chap28.html\n",
      "0.019769719 = (MATCH) product of:\n",
      "  0.039539438 = (MATCH) sum of:\n",
      "    0.039539438 = (MATCH) weight(_text:chinese in 39) [DefaultSimilarity], result of:\n",
      "      0.039539438 = score(doc=39,freq=10.0), product of:\n",
      "        0.41048786 = queryWeight, product of:\n",
      "          3.8988824 = idf(docFreq=116, maxDocs=2124)\n",
      "          0.10528347 = queryNorm\n",
      "        0.096323036 = fieldWeight in 39, product of:\n",
      "          3.1622777 = tf(freq=10.0), with freq of:\n",
      "            10.0 = termFreq=10.0\n",
      "          3.8988824 = idf(docFreq=116, maxDocs=2124)\n",
      "          0.0078125 = fieldNorm(doc=39)\n",
      "  0.5 = coord(1/2)\n",
      "\n",
      "/Volumes/PGCD0803/etext04/samur10.txt\n",
      "0.019395495 = (MATCH) product of:\n",
      "  0.03879099 = (MATCH) sum of:\n",
      "    0.03879099 = (MATCH) weight(_text:chinese in 4) [DefaultSimilarity], result of:\n",
      "      0.03879099 = score(doc=4,freq=154.0), product of:\n",
      "        0.41048786 = queryWeight, product of:\n",
      "          3.8988824 = idf(docFreq=116, maxDocs=2124)\n",
      "          0.10528347 = queryNorm\n",
      "        0.09449972 = fieldWeight in 4, product of:\n",
      "          12.409674 = tf(freq=154.0), with freq of:\n",
      "            154.0 = termFreq=154.0\n",
      "          3.8988824 = idf(docFreq=116, maxDocs=2124)\n",
      "          0.001953125 = fieldNorm(doc=4)\n",
      "  0.5 = coord(1/2)\n",
      "\n",
      "/Volumes/PGCD0803/etext00/rlchn10.txt\n",
      "0.026523702 = (MATCH) product of:\n",
      "  0.053047404 = (MATCH) sum of:\n",
      "    0.053047404 = (MATCH) weight(_text:chinese in 250) [DefaultSimilarity], result of:\n",
      "      0.053047404 = score(doc=250,freq=48.0), product of:\n",
      "        0.4078588 = queryWeight, product of:\n",
      "          3.8447106 = idf(docFreq=116, maxDocs=2012)\n",
      "          0.106083095 = queryNorm\n",
      "        0.13006316 = fieldWeight in 250, product of:\n",
      "          6.928203 = tf(freq=48.0), with freq of:\n",
      "            48.0 = termFreq=48.0\n",
      "          3.8447106 = idf(docFreq=116, maxDocs=2012)\n",
      "          0.0048828125 = fieldNorm(doc=250)\n",
      "  0.5 = coord(1/2)\n",
      "\n",
      "/Volumes/PGCD0803/etext00/rbddh10.txt\n",
      "0.03265372 = (MATCH) product of:\n",
      "  0.06530744 = (MATCH) sum of:\n",
      "    0.06530744 = (MATCH) weight(_text:chinese in 18) [DefaultSimilarity], result of:\n",
      "      0.06530744 = score(doc=18,freq=194.0), product of:\n",
      "        0.41048786 = queryWeight, product of:\n",
      "          3.8988824 = idf(docFreq=116, maxDocs=2124)\n",
      "          0.10528347 = queryNorm\n",
      "        0.15909712 = fieldWeight in 18, product of:\n",
      "          13.928389 = tf(freq=194.0), with freq of:\n",
      "            194.0 = termFreq=194.0\n",
      "          3.8988824 = idf(docFreq=116, maxDocs=2124)\n",
      "          0.0029296875 = fieldNorm(doc=18)\n",
      "  0.5 = coord(1/2)\n",
      "\n",
      "/Users/dchud/Downloads/apps/solr-5.0.0/docs/solr-clustering/org/apache/solr/handler/clustering/carrot2/package-summary.html\n",
      "0.030319117 = (MATCH) product of:\n",
      "  0.060638234 = (MATCH) sum of:\n",
      "    0.060638234 = (MATCH) weight(_text:chinese in 647) [DefaultSimilarity], result of:\n",
      "      0.060638234 = score(doc=647,freq=2.0), product of:\n",
      "        0.4078588 = queryWeight, product of:\n",
      "          3.8447106 = idf(docFreq=116, maxDocs=2012)\n",
      "          0.106083095 = queryNorm\n",
      "        0.14867458 = fieldWeight in 647, product of:\n",
      "          1.4142135 = tf(freq=2.0), with freq of:\n",
      "            2.0 = termFreq=2.0\n",
      "          3.8447106 = idf(docFreq=116, maxDocs=2012)\n",
      "          0.02734375 = fieldNorm(doc=647)\n",
      "  0.5 = coord(1/2)\n",
      "\n",
      "/Volumes/PGCD0803/etext04/conra10.txt\n",
      "0.017682573 = (MATCH) product of:\n",
      "  0.035365146 = (MATCH) sum of:\n",
      "    0.035365146 = (MATCH) weight(_text:chinese in 1) [DefaultSimilarity], result of:\n",
      "      0.035365146 = score(doc=1,freq=8.0), product of:\n",
      "        0.41048786 = queryWeight, product of:\n",
      "          3.8988824 = idf(docFreq=116, maxDocs=2124)\n",
      "          0.10528347 = queryNorm\n",
      "        0.08615394 = fieldWeight in 1, product of:\n",
      "          2.828427 = tf(freq=8.0), with freq of:\n",
      "            8.0 = termFreq=8.0\n",
      "          3.8988824 = idf(docFreq=116, maxDocs=2124)\n",
      "          0.0078125 = fieldNorm(doc=1)\n",
      "  0.5 = coord(1/2)\n",
      "\n",
      "/Volumes/PGCD0803/etext04/hmjnc11h/chap26.html\n",
      "0.023208376 = (MATCH) product of:\n",
      "  0.046416752 = (MATCH) sum of:\n",
      "    0.046416752 = (MATCH) weight(_text:chinese in 37) [DefaultSimilarity], result of:\n",
      "      0.046416752 = score(doc=37,freq=18.0), product of:\n",
      "        0.41048786 = queryWeight, product of:\n",
      "          3.8988824 = idf(docFreq=116, maxDocs=2124)\n",
      "          0.10528347 = queryNorm\n",
      "        0.11307704 = fieldWeight in 37, product of:\n",
      "          4.2426405 = tf(freq=18.0), with freq of:\n",
      "            18.0 = termFreq=18.0\n",
      "          3.8988824 = idf(docFreq=116, maxDocs=2124)\n",
      "          0.0068359375 = fieldNorm(doc=37)\n",
      "  0.5 = coord(1/2)\n",
      "\n",
      "/Users/dchud/Downloads/apps/solr-5.0.0/docs/solr-clustering/org/apache/solr/handler/clustering/carrot2/LuceneCarrot2TokenizerFactory.html\n",
      "0.03125867 = (MATCH) product of:\n",
      "  0.06251734 = (MATCH) sum of:\n",
      "    0.06251734 = (MATCH) weight(_text:chinese in 1240) [DefaultSimilarity], result of:\n",
      "      0.06251734 = score(doc=1240,freq=4.0), product of:\n",
      "        0.41048786 = queryWeight, product of:\n",
      "          3.8988824 = idf(docFreq=116, maxDocs=2124)\n",
      "          0.10528347 = queryNorm\n",
      "        0.15230009 = fieldWeight in 1240, product of:\n",
      "          2.0 = tf(freq=4.0), with freq of:\n",
      "            4.0 = termFreq=4.0\n",
      "          3.8988824 = idf(docFreq=116, maxDocs=2124)\n",
      "          0.01953125 = fieldNorm(doc=1240)\n",
      "  0.5 = coord(1/2)\n",
      "\n"
     ]
    }
   ],
   "source": [
    "explain = resp['debug']['explain']\n",
    "for id, result in explain.items():\n",
    "    print \"%s%s\" % (id, result)"
   ]
  },
  {
   "cell_type": "markdown",
   "metadata": {},
   "source": [
    "## A better example\n",
    "\n",
    "These examples are rather inscrutable; let's look at something more obvious.  In addition to the example \"getting started\" API documentation indexed during the [Solr Tutorial](http://lucene.apache.org/solr/quickstart.html) I've downloaded and indexed several hundred books from [Project Gutenberg](http://www.gutenberg.org/ebooks/11220).  Let's try the \"foundation\" search again:"
   ]
  },
  {
   "cell_type": "code",
   "execution_count": 75,
   "metadata": {
    "collapsed": false
   },
   "outputs": [
    {
     "name": "stdout",
     "output_type": "stream",
     "text": [
      "0.39567953 - 0553293354: [u'Foundation']\n",
      "0.13989384 - UTF8TEST: [u'Test with some UTF-8 encoded characters']\n",
      "0.122407116 - SOLR1000: [u'Solr, the Enterprise Search Server']\n",
      "0.06483684 - /Volumes/PGCD0803/etext03/vbgle11h/index.html: (no name)\n",
      "0.061824925 - /Users/dchud/Downloads/apps/solr-5.0.0/docs/solr-core/org/apache/solr/spelling/suggest/tst/package-use.html: (no name)\n",
      "0.061824925 - /Users/dchud/Downloads/apps/solr-5.0.0/docs/solr-dataimporthandler-extras/deprecated-list.html: (no name)\n",
      "0.061824925 - /Users/dchud/Downloads/apps/solr-5.0.0/docs/solr-solrj/org/apache/solr/client/solrj/util/package-use.html: (no name)\n",
      "0.061824925 - /Users/dchud/Downloads/apps/solr-5.0.0/docs/solr-analytics/deprecated-list.html: (no name)\n",
      "0.061824925 - /Users/dchud/Downloads/apps/solr-5.0.0/docs/solr-clustering/org/apache/solr/handler/clustering/carrot2/package-use.html: (no name)\n",
      "0.061824925 - /Users/dchud/Downloads/apps/solr-5.0.0/docs/solr-core/org/apache/solr/logging/log4j/package-use.html: (no name)\n"
     ]
    }
   ],
   "source": [
    "req = requests.get(\"http://localhost:8983/solr/gettingstarted/select?q=foundation&wt=json&fl=*,score&debugQuery=true\")\n",
    "resp = req.json()\n",
    "for doc in resp['response']['docs']:\n",
    "    print \"%s - %s: %s\" % (doc['score'], doc['id'], doc.get('name', '(no name)'))"
   ]
  },
  {
   "cell_type": "markdown",
   "metadata": {},
   "source": [
    "That first hit is new!  Let's take a look."
   ]
  },
  {
   "cell_type": "code",
   "execution_count": 76,
   "metadata": {
    "collapsed": false
   },
   "outputs": [
    {
     "name": "stdout",
     "output_type": "stream",
     "text": [
      "\n",
      "0.39567953 = (MATCH) weight(_text:foundation in 1586) [DefaultSimilarity], result of:\n",
      "  0.39567953 = fieldWeight in 1586, product of:\n",
      "    1.4142135 = tf(freq=2.0), with freq of:\n",
      "      2.0 = termFreq=2.0\n",
      "    1.1191508 = idf(docFreq=1785, maxDocs=2012)\n",
      "    0.25 = fieldNorm(doc=1586)\n",
      "\n"
     ]
    }
   ],
   "source": [
    "explain = resp['debug']['explain']\n",
    "print explain['0553293354']"
   ]
  },
  {
   "cell_type": "code",
   "execution_count": 77,
   "metadata": {
    "collapsed": false
   },
   "outputs": [
    {
     "name": "stdout",
     "output_type": "stream",
     "text": [
      "\n",
      "0.122407116 = (MATCH) weight(_text:foundation in 1576) [DefaultSimilarity], result of:\n",
      "  0.122407116 = fieldWeight in 1576, product of:\n",
      "    1.0 = tf(freq=1.0), with freq of:\n",
      "      1.0 = termFreq=1.0\n",
      "    1.1191508 = idf(docFreq=1785, maxDocs=2012)\n",
      "    0.109375 = fieldNorm(doc=1576)\n",
      "\n"
     ]
    }
   ],
   "source": [
    "print explain['SOLR1000']"
   ]
  },
  {
   "cell_type": "markdown",
   "metadata": {},
   "source": [
    "Can you guess what it is?"
   ]
  },
  {
   "cell_type": "code",
   "execution_count": 78,
   "metadata": {
    "collapsed": false
   },
   "outputs": [
    {
     "data": {
      "text/plain": [
       "{u'_version_': 1494510828527812608,\n",
       " u'author': [u'Isaac Asimov'],\n",
       " u'cat': [u'book'],\n",
       " u'genre_s': u'scifi',\n",
       " u'id': u'0553293354',\n",
       " u'inStock': [True],\n",
       " u'name': [u'Foundation'],\n",
       " u'price': [7.99],\n",
       " u'score': 0.39567953,\n",
       " u'sequence_i': 1,\n",
       " u'series_t': [u'Foundation Novels']}"
      ]
     },
     "execution_count": 78,
     "metadata": {},
     "output_type": "execute_result"
    }
   ],
   "source": [
    "resp['response']['docs'][0]"
   ]
  },
  {
   "cell_type": "markdown",
   "metadata": {},
   "source": [
    "This gives us a great opportunity to see how relevance calculations vary with specific queries. First, we add the bare term \"asimov\", so our search query is now \"foundation asimov\".  Watch what happens to the relevance score of the top hit, and the scores of the other hits."
   ]
  },
  {
   "cell_type": "code",
   "execution_count": 79,
   "metadata": {
    "collapsed": false
   },
   "outputs": [
    {
     "name": "stdout",
     "output_type": "stream",
     "text": [
      "2.0143478 - 0553293354: [u'Foundation']\n",
      "0.009794351 - UTF8TEST: [u'Test with some UTF-8 encoded characters']\n",
      "0.008570056 - SOLR1000: [u'Solr, the Enterprise Search Server']\n",
      "0.004328532 - /Users/dchud/Downloads/apps/solr-5.0.0/docs/solr-core/org/apache/solr/spelling/suggest/tst/package-use.html: (no name)\n",
      "0.004328532 - /Users/dchud/Downloads/apps/solr-5.0.0/docs/solr-dataimporthandler-extras/deprecated-list.html: (no name)\n",
      "0.004328532 - /Users/dchud/Downloads/apps/solr-5.0.0/docs/solr-solrj/org/apache/solr/client/solrj/util/package-use.html: (no name)\n",
      "0.004328532 - /Users/dchud/Downloads/apps/solr-5.0.0/docs/solr-analytics/deprecated-list.html: (no name)\n",
      "0.004328532 - /Users/dchud/Downloads/apps/solr-5.0.0/docs/solr-clustering/org/apache/solr/handler/clustering/carrot2/package-use.html: (no name)\n",
      "0.004328532 - /Users/dchud/Downloads/apps/solr-5.0.0/docs/solr-core/org/apache/solr/logging/log4j/package-use.html: (no name)\n",
      "0.004328532 - /Users/dchud/Downloads/apps/solr-5.0.0/docs/solr-test-framework/org/apache/solr/analysis/package-use.html: (no name)\n"
     ]
    }
   ],
   "source": [
    "req = requests.get(\"http://localhost:8983/solr/gettingstarted/select?q=foundation+asimov&wt=json&fl=*,score&debugQuery=true\")\n",
    "resp = req.json()\n",
    "for doc in resp['response']['docs']:\n",
    "    print \"%s - %s: %s\" % (doc['score'], doc['id'], doc.get('name', '(no name)'))"
   ]
  },
  {
   "cell_type": "code",
   "execution_count": 80,
   "metadata": {
    "collapsed": false
   },
   "outputs": [
    {
     "name": "stdout",
     "output_type": "stream",
     "text": [
      "\n",
      "2.0143478 = (MATCH) sum of:\n",
      "  0.05540521 = (MATCH) weight(_text:foundation in 1586) [DefaultSimilarity], result of:\n",
      "    0.05540521 = score(doc=1586,freq=2.0), product of:\n",
      "      0.14002547 = queryWeight, product of:\n",
      "        1.1191508 = idf(docFreq=1785, maxDocs=2012)\n",
      "        0.12511761 = queryNorm\n",
      "      0.39567953 = fieldWeight in 1586, product of:\n",
      "        1.4142135 = tf(freq=2.0), with freq of:\n",
      "          2.0 = termFreq=2.0\n",
      "        1.1191508 = idf(docFreq=1785, maxDocs=2012)\n",
      "        0.25 = fieldNorm(doc=1586)\n",
      "  1.9589427 = (MATCH) weight(_text:asimov in 1586) [DefaultSimilarity], result of:\n",
      "    1.9589427 = score(doc=1586,freq=1.0), product of:\n",
      "      0.99014795 = queryWeight, product of:\n",
      "        7.9137373 = idf(docFreq=1, maxDocs=2012)\n",
      "        0.12511761 = queryNorm\n",
      "      1.9784343 = fieldWeight in 1586, product of:\n",
      "        1.0 = tf(freq=1.0), with freq of:\n",
      "          1.0 = termFreq=1.0\n",
      "        7.9137373 = idf(docFreq=1, maxDocs=2012)\n",
      "        0.25 = fieldNorm(doc=1586)\n",
      "\n"
     ]
    }
   ],
   "source": [
    "explain = resp['debug']['explain']\n",
    "print explain['0553293354']"
   ]
  },
  {
   "cell_type": "code",
   "execution_count": 81,
   "metadata": {
    "collapsed": false
   },
   "outputs": [
    {
     "name": "stdout",
     "output_type": "stream",
     "text": [
      "\n",
      "0.008570056 = (MATCH) product of:\n",
      "  0.017140113 = (MATCH) sum of:\n",
      "    0.017140113 = (MATCH) weight(_text:foundation in 1576) [DefaultSimilarity], result of:\n",
      "      0.017140113 = score(doc=1576,freq=1.0), product of:\n",
      "        0.14002547 = queryWeight, product of:\n",
      "          1.1191508 = idf(docFreq=1785, maxDocs=2012)\n",
      "          0.12511761 = queryNorm\n",
      "        0.122407116 = fieldWeight in 1576, product of:\n",
      "          1.0 = tf(freq=1.0), with freq of:\n",
      "            1.0 = termFreq=1.0\n",
      "          1.1191508 = idf(docFreq=1785, maxDocs=2012)\n",
      "          0.109375 = fieldNorm(doc=1576)\n",
      "  0.5 = coord(1/2)\n",
      "\n"
     ]
    }
   ],
   "source": [
    "print explain['SOLR1000']"
   ]
  },
  {
   "cell_type": "markdown",
   "metadata": {},
   "source": [
    "Let's refine it a notch by using a specific field query for the author name."
   ]
  },
  {
   "cell_type": "code",
   "execution_count": 82,
   "metadata": {
    "collapsed": false
   },
   "outputs": [
    {
     "name": "stdout",
     "output_type": "stream",
     "text": [
      "0.02551029 - 0553293354: [u'Foundation']\n",
      "0.00901925 - UTF8TEST: [u'Test with some UTF-8 encoded characters']\n",
      "0.007891844 - SOLR1000: [u'Solr, the Enterprise Search Server']\n",
      "0.004149459 - /Volumes/PGCD0803/etext03/vbgle11h/index.html: (no name)\n",
      "0.003985983 - /Users/dchud/Downloads/apps/solr-5.0.0/docs/solr-core/org/apache/solr/spelling/suggest/tst/package-use.html: (no name)\n",
      "0.003985983 - /Users/dchud/Downloads/apps/solr-5.0.0/docs/solr-dataimporthandler-extras/deprecated-list.html: (no name)\n",
      "0.003985983 - /Users/dchud/Downloads/apps/solr-5.0.0/docs/solr-solrj/org/apache/solr/client/solrj/util/package-use.html: (no name)\n",
      "0.003985983 - /Users/dchud/Downloads/apps/solr-5.0.0/docs/solr-analytics/deprecated-list.html: (no name)\n",
      "0.003985983 - /Users/dchud/Downloads/apps/solr-5.0.0/docs/solr-clustering/org/apache/solr/handler/clustering/carrot2/package-use.html: (no name)\n",
      "0.003985983 - /Users/dchud/Downloads/apps/solr-5.0.0/docs/solr-core/org/apache/solr/logging/log4j/package-use.html: (no name)\n"
     ]
    }
   ],
   "source": [
    "req = requests.get(\"http://localhost:8983/solr/gettingstarted/select?q=foundation+author:asimov&wt=json&fl=*,score&debugQuery=true\")\n",
    "resp = req.json()\n",
    "for doc in resp['response']['docs']:\n",
    "    print \"%s - %s: %s\" % (doc['score'], doc['id'], doc.get('name', '(no name)'))"
   ]
  },
  {
   "cell_type": "markdown",
   "metadata": {},
   "source": [
    "What happened to the scores?"
   ]
  },
  {
   "cell_type": "code",
   "execution_count": 83,
   "metadata": {
    "collapsed": false
   },
   "outputs": [
    {
     "name": "stdout",
     "output_type": "stream",
     "text": [
      "\n",
      "0.02551029 = (MATCH) product of:\n",
      "  0.05102058 = (MATCH) sum of:\n",
      "    0.05102058 = (MATCH) weight(_text:foundation in 1586) [DefaultSimilarity], result of:\n",
      "      0.05102058 = score(doc=1586,freq=2.0), product of:\n",
      "        0.1289442 = queryWeight, product of:\n",
      "          1.1191508 = idf(docFreq=1785, maxDocs=2012)\n",
      "          0.11521612 = queryNorm\n",
      "        0.39567953 = fieldWeight in 1586, product of:\n",
      "          1.4142135 = tf(freq=2.0), with freq of:\n",
      "            2.0 = termFreq=2.0\n",
      "          1.1191508 = idf(docFreq=1785, maxDocs=2012)\n",
      "          0.25 = fieldNorm(doc=1586)\n",
      "  0.5 = coord(1/2)\n",
      "\n"
     ]
    }
   ],
   "source": [
    "explain = resp['debug']['explain']\n",
    "print explain['0553293354']"
   ]
  },
  {
   "cell_type": "code",
   "execution_count": 84,
   "metadata": {
    "collapsed": false
   },
   "outputs": [
    {
     "name": "stdout",
     "output_type": "stream",
     "text": [
      "\n",
      "0.007891844 = (MATCH) product of:\n",
      "  0.015783688 = (MATCH) sum of:\n",
      "    0.015783688 = (MATCH) weight(_text:foundation in 1576) [DefaultSimilarity], result of:\n",
      "      0.015783688 = score(doc=1576,freq=1.0), product of:\n",
      "        0.1289442 = queryWeight, product of:\n",
      "          1.1191508 = idf(docFreq=1785, maxDocs=2012)\n",
      "          0.11521612 = queryNorm\n",
      "        0.122407116 = fieldWeight in 1576, product of:\n",
      "          1.0 = tf(freq=1.0), with freq of:\n",
      "            1.0 = termFreq=1.0\n",
      "          1.1191508 = idf(docFreq=1785, maxDocs=2012)\n",
      "          0.109375 = fieldNorm(doc=1576)\n",
      "  0.5 = coord(1/2)\n",
      "\n"
     ]
    }
   ],
   "source": [
    "print explain['SOLR1000']"
   ]
  },
  {
   "cell_type": "markdown",
   "metadata": {},
   "source": [
    "## Faceting\n",
    "\n",
    "This is only waving at the surface of what Solr can do, not even scratching it.  Just as an example, here's what an result set faceted by author names looks like."
   ]
  },
  {
   "cell_type": "code",
   "execution_count": 85,
   "metadata": {
    "collapsed": false
   },
   "outputs": [
    {
     "data": {
      "text/plain": [
       "{u'QTime': 96,\n",
       " u'params': {u'debugQuery': u'true',\n",
       "  u'facet': u'true',\n",
       "  u'facet.field': u'author',\n",
       "  u'fl': u'*,score',\n",
       "  u'q': u'*:*',\n",
       "  u'wt': u'json'},\n",
       " u'status': 0}"
      ]
     },
     "execution_count": 85,
     "metadata": {},
     "output_type": "execute_result"
    }
   ],
   "source": [
    "req = requests.get(\"http://localhost:8983/solr/gettingstarted/select?q=*:*&facet=true&facet.field=author&wt=json&fl=*,score&debugQuery=true\")\n",
    "resp = req.json()\n",
    "resp['responseHeader']"
   ]
  },
  {
   "cell_type": "code",
   "execution_count": 86,
   "metadata": {
    "collapsed": false
   },
   "outputs": [
    {
     "data": {
      "text/plain": [
       "{u'facet_dates': {},\n",
       " u'facet_fields': {u'author': [u'George R.R. Martin',\n",
       "   3,\n",
       "   u'Lloyd Alexander',\n",
       "   2,\n",
       "   u'Rick Riordan',\n",
       "   2,\n",
       "   u'A NOVEL IN THREE PARTS BY FYODOR DOSTOEVSKY',\n",
       "   1,\n",
       "   u'Forster, E. M.',\n",
       "   1,\n",
       "   u'Glen Cook',\n",
       "   1,\n",
       "   u'Henry David Thoreau',\n",
       "   1,\n",
       "   u'Isaac Asimov',\n",
       "   1,\n",
       "   u'Jostein Gaarder',\n",
       "   1,\n",
       "   u'Michael McCandless',\n",
       "   1,\n",
       "   u'Orson Scott Card',\n",
       "   1,\n",
       "   u'Roger Zelazny',\n",
       "   1,\n",
       "   u'Rudyard Kipling',\n",
       "   1,\n",
       "   u'Sir James George Frazer',\n",
       "   1,\n",
       "   u'Steven Brust',\n",
       "   1,\n",
       "   u'gilevi',\n",
       "   1]},\n",
       " u'facet_intervals': {},\n",
       " u'facet_queries': {},\n",
       " u'facet_ranges': {}}"
      ]
     },
     "execution_count": 86,
     "metadata": {},
     "output_type": "execute_result"
    }
   ],
   "source": [
    "resp['facet_counts']"
   ]
  },
  {
   "cell_type": "markdown",
   "metadata": {},
   "source": [
    "## High degree of usefulness warning\n",
    "\n",
    "This is exactly how we do the facets/refinement categories on the right side of the screen [after this catalog query](http://findit.library.gwu.edu/search?q=asimov+foundation).  Or if you don't use the library, think of product catalogs at amazon.  Faceting is what makes it easy to refine searches to limit to TVs of a certain size, or within a particular price range, or from by a particular manufacturer."
   ]
  },
  {
   "cell_type": "code",
   "execution_count": 87,
   "metadata": {
    "collapsed": false
   },
   "outputs": [
    {
     "data": {
      "text/plain": [
       "{u'prepare': {u'debug': {u'time': 0.0},\n",
       "  u'expand': {u'time': 0.0},\n",
       "  u'facet': {u'time': 0.0},\n",
       "  u'highlight': {u'time': 0.0},\n",
       "  u'mlt': {u'time': 0.0},\n",
       "  u'query': {u'time': 0.0},\n",
       "  u'stats': {u'time': 0.0},\n",
       "  u'time': 0.0},\n",
       " u'process': {u'debug': {u'time': 1.0},\n",
       "  u'expand': {u'time': 0.0},\n",
       "  u'facet': {u'time': 69.0},\n",
       "  u'highlight': {u'time': 0.0},\n",
       "  u'mlt': {u'time': 0.0},\n",
       "  u'query': {u'time': 17.0},\n",
       "  u'stats': {u'time': 0.0},\n",
       "  u'time': 88.0},\n",
       " u'time': 88.0}"
      ]
     },
     "execution_count": 87,
     "metadata": {},
     "output_type": "execute_result"
    }
   ],
   "source": [
    "resp['debug']['timing']"
   ]
  },
  {
   "cell_type": "markdown",
   "metadata": {},
   "source": [
    "86 milliseconds is pretty fast.  Why is this so fast?\n",
    "\n",
    "That's all for this quick tour.  There is a ton of stuff in Lucene/Solr that makes it a powerful tool for building search apps, even including spatial search.  Basically, if you can represent anything as a document-with-fields-with-values, you can index it with Lucene and serve it up with Solr."
   ]
  }
 ],
 "metadata": {
  "kernelspec": {
   "display_name": "Python 2",
   "language": "python",
   "name": "python2"
  },
  "language_info": {
   "codemirror_mode": {
    "name": "ipython",
    "version": 2
   },
   "file_extension": ".py",
   "mimetype": "text/x-python",
   "name": "python",
   "nbconvert_exporter": "python",
   "pygments_lexer": "ipython2",
   "version": "2.7.6"
  }
 },
 "nbformat": 4,
 "nbformat_minor": 0
}
